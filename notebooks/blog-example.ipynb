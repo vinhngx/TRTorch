{
 "cells": [
  {
   "cell_type": "code",
   "execution_count": 1,
   "metadata": {},
   "outputs": [
    {
     "name": "stdout",
     "output_type": "stream",
     "text": [
      "Python 3.6.9 :: Anaconda, Inc.\r\n"
     ]
    }
   ],
   "source": [
    "!python --version"
   ]
  },
  {
   "cell_type": "code",
   "execution_count": 2,
   "metadata": {},
   "outputs": [
    {
     "name": "stdout",
     "output_type": "stream",
     "text": [
      "Requirement already satisfied: trtorch==0.0.2 from https://github.com/NVIDIA/TRTorch/releases/download/v0.0.2/trtorch-0.0.2-cp36-cp36m-linux_x86_64.whl in /opt/conda/lib/python3.6/site-packages (0.0.2)\n",
      "Requirement already satisfied: torch==1.5.0 in /opt/conda/lib/python3.6/site-packages (from trtorch==0.0.2) (1.5.0)\n",
      "Requirement already satisfied: future in /opt/conda/lib/python3.6/site-packages (from torch==1.5.0->trtorch==0.0.2) (0.18.2)\n",
      "Requirement already satisfied: numpy in /opt/conda/lib/python3.6/site-packages (from torch==1.5.0->trtorch==0.0.2) (1.18.1)\n"
     ]
    }
   ],
   "source": [
    "# Installation https://nvidia.github.io/TRTorch/tutorials/installation.html#installation\n",
    "!pip install  https://github.com/NVIDIA/TRTorch/releases/download/v0.0.2/trtorch-0.0.2-cp36-cp36m-linux_x86_64.whl\n"
   ]
  },
  {
   "cell_type": "code",
   "execution_count": 3,
   "metadata": {},
   "outputs": [],
   "source": [
    "import torch \n",
    "from torch import nn\n",
    "import torch.nn.functional as F\n",
    "\n",
    "class LeNetFeatExtractor(nn.Module):\n",
    "    def __init__(self):\n",
    "        super(LeNetFeatExtractor, self).__init__()\n",
    "        self.conv1 = nn.Conv2d(1, 6, 3)\n",
    "        self.conv2 = nn.Conv2d(6, 16, 3)\n",
    "\n",
    "    def forward(self, x):\n",
    "        x = F.max_pool2d(F.relu(self.conv1(x)), (2, 2))\n",
    "        x = F.max_pool2d(F.relu(self.conv2(x)), 2)\n",
    "        return x\n",
    "\n",
    "class LeNetClassifier(nn.Module):\n",
    "    def __init__(self):\n",
    "        super(LeNetClassifier, self).__init__()\n",
    "        self.fc1 = nn.Linear(16 * 6 * 6, 120)\n",
    "        self.fc2 = nn.Linear(120, 84)\n",
    "        self.fc3 = nn.Linear(84, 10)\n",
    "\n",
    "    def forward(self, x):\n",
    "        x = torch.flatten(x,1)\n",
    "        x = F.relu(self.fc1(x))\n",
    "        x = F.relu(self.fc2(x))\n",
    "        x = self.fc3(x)\n",
    "        return x\n",
    "\n",
    "class LeNet(nn.Module):\n",
    "    def __init__(self):\n",
    "        super(LeNet, self).__init__()\n",
    "        self.feat = LeNetFeatExtractor()\n",
    "        self.classifer = LeNetClassifier()\n",
    "\n",
    "    def forward(self, x):\n",
    "        x = self.feat(x)\n",
    "        x = self.classifer(x)\n",
    "        return x\n"
   ]
  },
  {
   "cell_type": "code",
   "execution_count": 4,
   "metadata": {},
   "outputs": [],
   "source": [
    "model = LeNet()\n",
    "model.eval()\n",
    "traced_model = torch.jit.trace(model, torch.empty([1,1,32,32]))\n"
   ]
  },
  {
   "cell_type": "code",
   "execution_count": 5,
   "metadata": {},
   "outputs": [
    {
     "data": {
      "text/plain": [
       "LeNet(\n",
       "  original_name=LeNet\n",
       "  (feat): LeNetFeatExtractor(\n",
       "    original_name=LeNetFeatExtractor\n",
       "    (conv1): Conv2d(original_name=Conv2d)\n",
       "    (conv2): Conv2d(original_name=Conv2d)\n",
       "  )\n",
       "  (classifer): LeNetClassifier(\n",
       "    original_name=LeNetClassifier\n",
       "    (fc1): Linear(original_name=Linear)\n",
       "    (fc2): Linear(original_name=Linear)\n",
       "    (fc3): Linear(original_name=Linear)\n",
       "  )\n",
       ")"
      ]
     },
     "execution_count": 5,
     "metadata": {},
     "output_type": "execute_result"
    }
   ],
   "source": [
    "traced_model"
   ]
  },
  {
   "cell_type": "code",
   "execution_count": 6,
   "metadata": {},
   "outputs": [],
   "source": [
    "\n",
    "model = LeNet().eval()\n",
    "script_model = torch.jit.script(model)\n"
   ]
  },
  {
   "cell_type": "code",
   "execution_count": 7,
   "metadata": {},
   "outputs": [
    {
     "data": {
      "text/plain": [
       "RecursiveScriptModule(\n",
       "  original_name=LeNet\n",
       "  (feat): RecursiveScriptModule(\n",
       "    original_name=LeNetFeatExtractor\n",
       "    (conv1): RecursiveScriptModule(original_name=Conv2d)\n",
       "    (conv2): RecursiveScriptModule(original_name=Conv2d)\n",
       "  )\n",
       "  (classifer): RecursiveScriptModule(\n",
       "    original_name=LeNetClassifier\n",
       "    (fc1): RecursiveScriptModule(original_name=Linear)\n",
       "    (fc2): RecursiveScriptModule(original_name=Linear)\n",
       "    (fc3): RecursiveScriptModule(original_name=Linear)\n",
       "  )\n",
       ")"
      ]
     },
     "execution_count": 7,
     "metadata": {},
     "output_type": "execute_result"
    }
   ],
   "source": [
    "script_model"
   ]
  },
  {
   "cell_type": "code",
   "execution_count": null,
   "metadata": {},
   "outputs": [
    {
     "ename": "RuntimeError",
     "evalue": "Trying to create tensor with negative dimension -1: [1, 16, -1, -1]",
     "output_type": "error",
     "traceback": [
      "\u001b[0;31m---------------------------------------------------------------------------\u001b[0m",
      "\u001b[0;31mRuntimeError\u001b[0m                              Traceback (most recent call last)",
      "\u001b[0;32m<ipython-input-8-95b89b048d20>\u001b[0m in \u001b[0;36m<module>\u001b[0;34m\u001b[0m\n\u001b[1;32m     14\u001b[0m \u001b[0;34m\u001b[0m\u001b[0m\n\u001b[1;32m     15\u001b[0m \u001b[0;31m#trt_ts_module = trtorch.compile(traced_model, compile_settings)\u001b[0m\u001b[0;34m\u001b[0m\u001b[0;34m\u001b[0m\u001b[0;34m\u001b[0m\u001b[0m\n\u001b[0;32m---> 16\u001b[0;31m \u001b[0mtrt_ts_module\u001b[0m \u001b[0;34m=\u001b[0m \u001b[0mtrtorch\u001b[0m\u001b[0;34m.\u001b[0m\u001b[0mcompile\u001b[0m\u001b[0;34m(\u001b[0m\u001b[0mscript_model\u001b[0m\u001b[0;34m,\u001b[0m \u001b[0mcompile_settings\u001b[0m\u001b[0;34m)\u001b[0m\u001b[0;34m\u001b[0m\u001b[0;34m\u001b[0m\u001b[0m\n\u001b[0m\u001b[1;32m     17\u001b[0m \u001b[0;34m\u001b[0m\u001b[0m\n\u001b[1;32m     18\u001b[0m \u001b[0minput_data\u001b[0m \u001b[0;34m=\u001b[0m \u001b[0mtorch\u001b[0m\u001b[0;34m.\u001b[0m\u001b[0mrandn\u001b[0m\u001b[0;34m(\u001b[0m\u001b[0;34m(\u001b[0m\u001b[0;36m1\u001b[0m\u001b[0;34m,\u001b[0m \u001b[0;36m1\u001b[0m\u001b[0;34m,\u001b[0m \u001b[0;36m32\u001b[0m\u001b[0;34m,\u001b[0m \u001b[0;36m32\u001b[0m\u001b[0;34m)\u001b[0m\u001b[0;34m)\u001b[0m\u001b[0;34m\u001b[0m\u001b[0;34m\u001b[0m\u001b[0m\n",
      "\u001b[0;32m/opt/conda/lib/python3.6/site-packages/trtorch/_compiler.py\u001b[0m in \u001b[0;36mcompile\u001b[0;34m(module, extra_info)\u001b[0m\n\u001b[1;32m     59\u001b[0m         \u001b[0;32mraise\u001b[0m \u001b[0mTypeError\u001b[0m\u001b[0;34m(\u001b[0m\u001b[0;34m\"torch.jit.ScriptFunction currently is not directly supported, wrap the function in a module to compile\"\u001b[0m\u001b[0;34m)\u001b[0m\u001b[0;34m\u001b[0m\u001b[0;34m\u001b[0m\u001b[0m\n\u001b[1;32m     60\u001b[0m \u001b[0;34m\u001b[0m\u001b[0m\n\u001b[0;32m---> 61\u001b[0;31m     \u001b[0mcompiled_cpp_mod\u001b[0m \u001b[0;34m=\u001b[0m \u001b[0mtrtorch\u001b[0m\u001b[0;34m.\u001b[0m\u001b[0m_C\u001b[0m\u001b[0;34m.\u001b[0m\u001b[0mcompile_graph\u001b[0m\u001b[0;34m(\u001b[0m\u001b[0mmodule\u001b[0m\u001b[0;34m.\u001b[0m\u001b[0m_c\u001b[0m\u001b[0;34m,\u001b[0m \u001b[0m_parse_extra_info\u001b[0m\u001b[0;34m(\u001b[0m\u001b[0mextra_info\u001b[0m\u001b[0;34m)\u001b[0m\u001b[0;34m)\u001b[0m\u001b[0;34m\u001b[0m\u001b[0;34m\u001b[0m\u001b[0m\n\u001b[0m\u001b[1;32m     62\u001b[0m     \u001b[0mcompiled_module\u001b[0m \u001b[0;34m=\u001b[0m \u001b[0mtorch\u001b[0m\u001b[0;34m.\u001b[0m\u001b[0mjit\u001b[0m\u001b[0;34m.\u001b[0m\u001b[0m_recursive\u001b[0m\u001b[0;34m.\u001b[0m\u001b[0mwrap_cpp_module\u001b[0m\u001b[0;34m(\u001b[0m\u001b[0mcompiled_cpp_mod\u001b[0m\u001b[0;34m)\u001b[0m\u001b[0;34m\u001b[0m\u001b[0;34m\u001b[0m\u001b[0m\n\u001b[1;32m     63\u001b[0m     \u001b[0;32mreturn\u001b[0m \u001b[0mcompiled_module\u001b[0m\u001b[0;34m\u001b[0m\u001b[0;34m\u001b[0m\u001b[0m\n",
      "\u001b[0;31mRuntimeError\u001b[0m: Trying to create tensor with negative dimension -1: [1, 16, -1, -1]"
     ]
    }
   ],
   "source": [
    "import trtorch\n",
    "\n",
    "\n",
    "compile_settings = {\n",
    "    \"input_shapes\": [\n",
    "        {\n",
    "            \"min\" : [1, 1, 32, 32],\n",
    "            \"opt\" : [1, 1, 33, 33],\n",
    "            \"max\" : [1, 1, 34, 34],\n",
    "        }\n",
    "    ],\n",
    "    \"op_precision\": torch.half # Run with FP16\n",
    "}\n",
    "\n",
    "#trt_ts_module = trtorch.compile(traced_model, compile_settings)\n",
    "trt_ts_module = trtorch.compile(script_model, compile_settings)\n",
    "\n",
    "input_data = torch.randn((1, 1, 32, 32))\n",
    "input_data = input_data.half().to(\"cuda\")\n",
    "\n",
    "\n",
    "result = trt_ts_module(input_data)\n",
    "torch.jit.save(trt_ts_module, \"trt_ts_module.ts\")"
   ]
  },
  {
   "cell_type": "code",
   "execution_count": null,
   "metadata": {},
   "outputs": [],
   "source": []
  }
 ],
 "metadata": {
  "kernelspec": {
   "display_name": "Python 3",
   "language": "python",
   "name": "python3"
  },
  "language_info": {
   "codemirror_mode": {
    "name": "ipython",
    "version": 3
   },
   "file_extension": ".py",
   "mimetype": "text/x-python",
   "name": "python",
   "nbconvert_exporter": "python",
   "pygments_lexer": "ipython3",
   "version": "3.6.9"
  }
 },
 "nbformat": 4,
 "nbformat_minor": 4
}
